{
 "cells": [
  {
   "cell_type": "code",
   "execution_count": 1,
   "id": "6dc8ef2b",
   "metadata": {},
   "outputs": [],
   "source": [
    "import pandas as pd\n",
    "import numpy as np\n",
    "from tensorflow import keras\n",
    "import matplotlib.pyplot as plt\n",
    "import seaborn as sns"
   ]
  },
  {
   "cell_type": "code",
   "execution_count": 2,
   "id": "bc6b130d",
   "metadata": {},
   "outputs": [],
   "source": [
    "df = pd.read_csv(r'C:\\Users\\admin\\Statistics\\news_lenta_dataset.csv').drop('Unnamed: 0', axis=1)"
   ]
  },
  {
   "cell_type": "code",
   "execution_count": 45,
   "id": "cd43376e",
   "metadata": {},
   "outputs": [
    {
     "data": {
      "text/html": [
       "<div>\n",
       "<style scoped>\n",
       "    .dataframe tbody tr th:only-of-type {\n",
       "        vertical-align: middle;\n",
       "    }\n",
       "\n",
       "    .dataframe tbody tr th {\n",
       "        vertical-align: top;\n",
       "    }\n",
       "\n",
       "    .dataframe thead th {\n",
       "        text-align: right;\n",
       "    }\n",
       "</style>\n",
       "<table border=\"1\" class=\"dataframe\">\n",
       "  <thead>\n",
       "    <tr style=\"text-align: right;\">\n",
       "      <th></th>\n",
       "      <th>year</th>\n",
       "      <th>month</th>\n",
       "      <th>day</th>\n",
       "      <th>time</th>\n",
       "      <th>topic</th>\n",
       "      <th>header</th>\n",
       "      <th>content</th>\n",
       "      <th>author</th>\n",
       "    </tr>\n",
       "  </thead>\n",
       "  <tbody>\n",
       "    <tr>\n",
       "      <th>0</th>\n",
       "      <td>2023</td>\n",
       "      <td>1</td>\n",
       "      <td>7</td>\n",
       "      <td>00:10</td>\n",
       "      <td>Мир</td>\n",
       "      <td>Пентагон отказался комментировать сообщения о ...</td>\n",
       "      <td>Заместитель помощника министра обороны США по ...</td>\n",
       "      <td>Марина Совина</td>\n",
       "    </tr>\n",
       "    <tr>\n",
       "      <th>1</th>\n",
       "      <td>2023</td>\n",
       "      <td>1</td>\n",
       "      <td>7</td>\n",
       "      <td>00:12</td>\n",
       "      <td>Мир</td>\n",
       "      <td>Байден во время выступления ошибся в дате штур...</td>\n",
       "      <td>Американский президент Джо Байден на мероприят...</td>\n",
       "      <td>Марина Совина</td>\n",
       "    </tr>\n",
       "    <tr>\n",
       "      <th>2</th>\n",
       "      <td>2023</td>\n",
       "      <td>1</td>\n",
       "      <td>7</td>\n",
       "      <td>00:22</td>\n",
       "      <td>Россия</td>\n",
       "      <td>В Центральную Россию придут морозы до 35 градусов</td>\n",
       "      <td>Морозы до 35 градусов придут в Московскую, Яро...</td>\n",
       "      <td>Марина Совина</td>\n",
       "    </tr>\n",
       "    <tr>\n",
       "      <th>3</th>\n",
       "      <td>2023</td>\n",
       "      <td>1</td>\n",
       "      <td>7</td>\n",
       "      <td>00:23</td>\n",
       "      <td>Мир</td>\n",
       "      <td>Пентагон оценил ситуацию с военной помощью Укр...</td>\n",
       "      <td>Заместитель помощника главы Минобороны США по ...</td>\n",
       "      <td>Марина Совина</td>\n",
       "    </tr>\n",
       "    <tr>\n",
       "      <th>4</th>\n",
       "      <td>2023</td>\n",
       "      <td>1</td>\n",
       "      <td>7</td>\n",
       "      <td>00:29</td>\n",
       "      <td>Россия</td>\n",
       "      <td>Российский военнослужащий заявил о нарушении У...</td>\n",
       "      <td>Российский военнослужащий западной группировки...</td>\n",
       "      <td>Марина Совина</td>\n",
       "    </tr>\n",
       "    <tr>\n",
       "      <th>...</th>\n",
       "      <td>...</td>\n",
       "      <td>...</td>\n",
       "      <td>...</td>\n",
       "      <td>...</td>\n",
       "      <td>...</td>\n",
       "      <td>...</td>\n",
       "      <td>...</td>\n",
       "      <td>...</td>\n",
       "    </tr>\n",
       "    <tr>\n",
       "      <th>29077</th>\n",
       "      <td>2022</td>\n",
       "      <td>10</td>\n",
       "      <td>28</td>\n",
       "      <td>23:39</td>\n",
       "      <td>Мир</td>\n",
       "      <td>Генерал США согласился со словами Путина о мир...</td>\n",
       "      <td>Президент России Владимир Путин оказался прав ...</td>\n",
       "      <td>Юлия Мискевич</td>\n",
       "    </tr>\n",
       "    <tr>\n",
       "      <th>29078</th>\n",
       "      <td>2022</td>\n",
       "      <td>10</td>\n",
       "      <td>28</td>\n",
       "      <td>23:44</td>\n",
       "      <td>Россия</td>\n",
       "      <td>В России назвали конечную цель спецоперации на...</td>\n",
       "      <td>Глава крымского парламента Владимир Константин...</td>\n",
       "      <td>Марина Совина</td>\n",
       "    </tr>\n",
       "    <tr>\n",
       "      <th>29079</th>\n",
       "      <td>2022</td>\n",
       "      <td>10</td>\n",
       "      <td>28</td>\n",
       "      <td>23:46</td>\n",
       "      <td>Интернет и СМИ</td>\n",
       "      <td>Пушилин вручил орден Дружбы ведущему Первого к...</td>\n",
       "      <td>Врио главы Донецкой народной республики (ДНР) ...</td>\n",
       "      <td>Марина Совина</td>\n",
       "    </tr>\n",
       "    <tr>\n",
       "      <th>29080</th>\n",
       "      <td>2022</td>\n",
       "      <td>10</td>\n",
       "      <td>28</td>\n",
       "      <td>23:48</td>\n",
       "      <td>Мир</td>\n",
       "      <td>Суд в Норвегии арестовал обвиняемого в шпионаж...</td>\n",
       "      <td>Окружной суд Осло принял решение поместить под...</td>\n",
       "      <td>Марина Совина</td>\n",
       "    </tr>\n",
       "    <tr>\n",
       "      <th>29081</th>\n",
       "      <td>2022</td>\n",
       "      <td>10</td>\n",
       "      <td>28</td>\n",
       "      <td>23:54</td>\n",
       "      <td>Мир</td>\n",
       "      <td>США пригрозили применить все инструменты для б...</td>\n",
       "      <td>Официальный представитель Госдепартамента Нед ...</td>\n",
       "      <td>Марина Совина</td>\n",
       "    </tr>\n",
       "  </tbody>\n",
       "</table>\n",
       "<p>29082 rows × 8 columns</p>\n",
       "</div>"
      ],
      "text/plain": [
       "       year  month  day   time           topic  \\\n",
       "0      2023      1    7  00:10             Мир   \n",
       "1      2023      1    7  00:12             Мир   \n",
       "2      2023      1    7  00:22          Россия   \n",
       "3      2023      1    7  00:23             Мир   \n",
       "4      2023      1    7  00:29          Россия   \n",
       "...     ...    ...  ...    ...             ...   \n",
       "29077  2022     10   28  23:39             Мир   \n",
       "29078  2022     10   28  23:44          Россия   \n",
       "29079  2022     10   28  23:46  Интернет и СМИ   \n",
       "29080  2022     10   28  23:48             Мир   \n",
       "29081  2022     10   28  23:54             Мир   \n",
       "\n",
       "                                                  header  \\\n",
       "0      Пентагон отказался комментировать сообщения о ...   \n",
       "1      Байден во время выступления ошибся в дате штур...   \n",
       "2      В Центральную Россию придут морозы до 35 градусов   \n",
       "3      Пентагон оценил ситуацию с военной помощью Укр...   \n",
       "4      Российский военнослужащий заявил о нарушении У...   \n",
       "...                                                  ...   \n",
       "29077  Генерал США согласился со словами Путина о мир...   \n",
       "29078  В России назвали конечную цель спецоперации на...   \n",
       "29079  Пушилин вручил орден Дружбы ведущему Первого к...   \n",
       "29080  Суд в Норвегии арестовал обвиняемого в шпионаж...   \n",
       "29081  США пригрозили применить все инструменты для б...   \n",
       "\n",
       "                                                 content         author  \n",
       "0      Заместитель помощника министра обороны США по ...  Марина Совина  \n",
       "1      Американский президент Джо Байден на мероприят...  Марина Совина  \n",
       "2      Морозы до 35 градусов придут в Московскую, Яро...  Марина Совина  \n",
       "3      Заместитель помощника главы Минобороны США по ...  Марина Совина  \n",
       "4      Российский военнослужащий западной группировки...  Марина Совина  \n",
       "...                                                  ...            ...  \n",
       "29077  Президент России Владимир Путин оказался прав ...  Юлия Мискевич  \n",
       "29078  Глава крымского парламента Владимир Константин...  Марина Совина  \n",
       "29079  Врио главы Донецкой народной республики (ДНР) ...  Марина Совина  \n",
       "29080  Окружной суд Осло принял решение поместить под...  Марина Совина  \n",
       "29081  Официальный представитель Госдепартамента Нед ...  Марина Совина  \n",
       "\n",
       "[29082 rows x 8 columns]"
      ]
     },
     "execution_count": 45,
     "metadata": {},
     "output_type": "execute_result"
    }
   ],
   "source": [
    "df"
   ]
  },
  {
   "cell_type": "code",
   "execution_count": 4,
   "id": "a7a8f8d4",
   "metadata": {},
   "outputs": [
    {
     "data": {
      "image/png": "[encoded data removed]",
      "text/plain": [
       "<Figure size 640x480 with 1 Axes>"
      ]
     },
     "metadata": {},
     "output_type": "display_data"
    }
   ],
   "source": [
    "sns.histplot(df['topic'].to_list())\n",
    "_ = plt.xticks(rotation=90)"
   ]
  },
  {
   "cell_type": "markdown",
   "id": "d26dbdc8",
   "metadata": {},
   "source": [
    "## Пресдказание следующего слова"
   ]
  },
  {
   "cell_type": "code",
   "execution_count": 13,
   "id": "65faa83d",
   "metadata": {},
   "outputs": [],
   "source": [
    "max_num_words = 1000\n",
    "text = df[df.topic == 'Россия'].iloc[:2000]"
   ]
  },
  {
   "cell_type": "code",
   "execution_count": 42,
   "id": "89bbd0fb",
   "metadata": {},
   "outputs": [
    {
     "data": {
      "text/plain": [
       "array([[    0,     0,     0, ..., 11325,     2,    55],\n",
       "       [    0,     0,     0, ...,  3556,  4424,  3966],\n",
       "       [    0,     0,     0, ...,    66,  1418,  3235],\n",
       "       ...,\n",
       "       [    0,     0,     0, ..., 10576,   900,  1332],\n",
       "       [    0,     0,     0, ...,     2,    38,  1969],\n",
       "       [    0,     0,     0, ...,   140,     8,   510]])"
      ]
     },
     "execution_count": 42,
     "metadata": {},
     "output_type": "execute_result"
    }
   ],
   "source": [
    "text"
   ]
  },
  {
   "cell_type": "code",
   "execution_count": 15,
   "id": "c62c251b",
   "metadata": {},
   "outputs": [],
   "source": [
    "text = ' '.join(text.content.str.strip().to_list())"
   ]
  },
  {
   "cell_type": "code",
   "execution_count": 16,
   "id": "8c74cfec",
   "metadata": {},
   "outputs": [],
   "source": [
    "tokenizer = keras.preprocessing.text.Tokenizer(num_words=max_num_words, lower=True, split=' ')\n",
    "tokenizer.fit_on_texts([text])"
   ]
  },
  {
   "cell_type": "code",
   "execution_count": 17,
   "id": "ef3d1f82",
   "metadata": {},
   "outputs": [],
   "source": [
    "data = tokenizer.texts_to_sequences([text])"
   ]
  },
  {
   "cell_type": "code",
   "execution_count": 18,
   "id": "3d45dfe5",
   "metadata": {},
   "outputs": [],
   "source": [
    "# data = keras.utils.to_categorical(data[0], max_num_words)\n",
    "data = data[0]"
   ]
  },
  {
   "cell_type": "code",
   "execution_count": 19,
   "id": "c3b9b162",
   "metadata": {},
   "outputs": [],
   "source": [
    "inp_words = 10\n",
    "n = len(data) - inp_words"
   ]
  },
  {
   "cell_type": "code",
   "execution_count": 20,
   "id": "8bf2a84d",
   "metadata": {},
   "outputs": [],
   "source": [
    "X = np.array([data[i:i+inp_words] for i in range(n)])\n",
    "y = keras.utils.to_categorical(data[inp_words:])"
   ]
  },
  {
   "cell_type": "code",
   "execution_count": 21,
   "id": "3200b41c",
   "metadata": {},
   "outputs": [
    {
     "data": {
      "text/plain": [
       "(181855, 10)"
      ]
     },
     "execution_count": 21,
     "metadata": {},
     "output_type": "execute_result"
    }
   ],
   "source": [
    "X.shape"
   ]
  },
  {
   "cell_type": "code",
   "execution_count": 43,
   "id": "d55fe429",
   "metadata": {},
   "outputs": [],
   "source": [
    "model = keras.Sequential([\n",
    "    keras.layers.Embedding(max_num_words, 320, input_length=inp_words),\n",
    "#     keras.layers.SimpleRNN(256, activation='tanh', return_sequences=True),\n",
    "#     keras.layers.SimpleRNN(128, activation='tanh'),\n",
    "    keras.layers.LSTM(128),\n",
    "    keras.layers.Dense(256, activation='relu'),\n",
    "    keras.layers.Dense(max_num_words, activation='softmax')\n",
    "])"
   ]
  },
  {
   "cell_type": "code",
   "execution_count": 44,
   "id": "f95626e2",
   "metadata": {},
   "outputs": [
    {
     "name": "stdout",
     "output_type": "stream",
     "text": [
      "Model: \"sequential_3\"\n",
      "_________________________________________________________________\n",
      " Layer (type)                Output Shape              Param #   \n",
      "=================================================================\n",
      " embedding_3 (Embedding)     (None, 10, 320)           320000    \n",
      "                                                                 \n",
      " lstm_4 (LSTM)               (None, 128)               229888    \n",
      "                                                                 \n",
      " dense_3 (Dense)             (None, 256)               33024     \n",
      "                                                                 \n",
      " dense_4 (Dense)             (None, 1000)              257000    \n",
      "                                                                 \n",
      "=================================================================\n",
      "Total params: 839,912\n",
      "Trainable params: 839,912\n",
      "Non-trainable params: 0\n",
      "_________________________________________________________________\n"
     ]
    }
   ],
   "source": [
    "model.summary()"
   ]
  },
  {
   "cell_type": "code",
   "execution_count": 45,
   "id": "2372fd57",
   "metadata": {},
   "outputs": [],
   "source": [
    "model.compile(optimizer=keras.optimizers.Adam(learning_rate=0.001),\n",
    "              loss=keras.losses.CategoricalCrossentropy(),\n",
    "              metrics=['accuracy'])"
   ]
  },
  {
   "cell_type": "code",
   "execution_count": 46,
   "id": "b8ea19bd",
   "metadata": {},
   "outputs": [
    {
     "name": "stdout",
     "output_type": "stream",
     "text": [
      "Epoch 1/10\n",
      "3979/3979 [==============================] - 33s 8ms/step - loss: 5.0742 - accuracy: 0.1587 - val_loss: 4.6175 - val_accuracy: 0.2042\n",
      "Epoch 2/10\n",
      "3979/3979 [==============================] - 35s 9ms/step - loss: 4.2008 - accuracy: 0.2455 - val_loss: 4.3964 - val_accuracy: 0.2326\n",
      "Epoch 3/10\n",
      "3979/3979 [==============================] - 39s 10ms/step - loss: 3.8866 - accuracy: 0.2716 - val_loss: 4.3618 - val_accuracy: 0.2399\n",
      "Epoch 4/10\n",
      "3979/3979 [==============================] - 34s 9ms/step - loss: 3.6526 - accuracy: 0.2917 - val_loss: 4.3823 - val_accuracy: 0.2438\n",
      "Epoch 5/10\n",
      "3979/3979 [==============================] - 32s 8ms/step - loss: 3.4520 - accuracy: 0.3109 - val_loss: 4.4914 - val_accuracy: 0.2441\n",
      "Epoch 6/10\n",
      "3979/3979 [==============================] - 32s 8ms/step - loss: 3.2700 - accuracy: 0.3292 - val_loss: 4.5955 - val_accuracy: 0.2445\n",
      "Epoch 7/10\n",
      "3979/3979 [==============================] - 31s 8ms/step - loss: 3.0976 - accuracy: 0.3474 - val_loss: 4.7647 - val_accuracy: 0.2382\n",
      "Epoch 8/10\n",
      "3979/3979 [==============================] - 30s 8ms/step - loss: 2.9361 - accuracy: 0.3664 - val_loss: 4.9095 - val_accuracy: 0.2396\n",
      "Epoch 9/10\n",
      "3979/3979 [==============================] - 31s 8ms/step - loss: 2.7850 - accuracy: 0.3875 - val_loss: 5.1346 - val_accuracy: 0.2331\n",
      "Epoch 10/10\n",
      "3979/3979 [==============================] - 32s 8ms/step - loss: 2.6406 - accuracy: 0.4078 - val_loss: 5.3258 - val_accuracy: 0.2283\n"
     ]
    }
   ],
   "source": [
    "history = model.fit(X, y, batch_size=32, epochs=10, validation_split=.3)"
   ]
  },
  {
   "cell_type": "code",
   "execution_count": 47,
   "id": "821c3397",
   "metadata": {},
   "outputs": [
    {
     "data": {
      "text/plain": [
       "[<matplotlib.lines.Line2D at 0x1f7569c2eb0>]"
      ]
     },
     "execution_count": 47,
     "metadata": {},
     "output_type": "execute_result"
    },
    {
     "data": {
      "image/png": "[encoded data removed]",
      "text/plain": [
       "<Figure size 640x480 with 1 Axes>"
      ]
     },
     "metadata": {},
     "output_type": "display_data"
    }
   ],
   "source": [
    "plt.plot(history.history['loss'])\n",
    "plt.plot(history.history['val_loss'])"
   ]
  },
  {
   "cell_type": "code",
   "execution_count": 48,
   "id": "195b14ce",
   "metadata": {},
   "outputs": [
    {
     "data": {
      "text/plain": [
       "[<matplotlib.lines.Line2D at 0x1f816127940>]"
      ]
     },
     "execution_count": 48,
     "metadata": {},
     "output_type": "execute_result"
    },
    {
     "data": {
      "image/png": "[encoded data removed]",
      "text/plain": [
       "<Figure size 640x480 with 1 Axes>"
      ]
     },
     "metadata": {},
     "output_type": "display_data"
    }
   ],
   "source": [
    "plt.plot(history.history['accuracy'])\n",
    "plt.plot(history.history['val_accuracy'])"
   ]
  },
  {
   "cell_type": "code",
   "execution_count": null,
   "id": "9f59c2a0",
   "metadata": {},
   "outputs": [],
   "source": []
  },
  {
   "cell_type": "code",
   "execution_count": 49,
   "id": "22b89c69",
   "metadata": {
    "scrolled": true
   },
   "outputs": [
    {
     "name": "stdout",
     "output_type": "stream",
     "text": [
      "на украине по его словам в начале декабря стало известно что в россии в москве проект по ее данным и — это в — это в — сказал он ранее президент россии владимир путин заявил что в стране люди в стране в стране нельзя что в 2023 году в 2023 году на украину и в году в 2023 году на новых в том числе и на новых наемников в состав россии была — и — подчеркнул он ранее президент россии владимир путин поручил минобороны ввести режим прекращения огня по всей линии в зоне специальной военной операции сво на видео работа цели комплекса с 300 в минобороны что боевые машины находились кроме того были уничтожены две системы залпового огня рсзо himars в сша об этом в понедельник 2 января журналистам сообщили в минобороны россии согласно военные вс рф в районе населенного пункта в днр в районах населенных пунктов харьковской области и днр были уничтожены три системы производства сша 24 февраля было\n"
     ]
    }
   ],
   "source": [
    "text = 'на украине по его словам в начале декабря стало известно'.split()\n",
    "for i in range(150):\n",
    "    index = np.argmax(model.predict(tokenizer.texts_to_sequences([text[i:]]), verbose=0))\n",
    "    text.append(tokenizer.index_word[index])\n",
    "print(' '.join(text))"
   ]
  },
  {
   "cell_type": "markdown",
   "id": "fd5cec83",
   "metadata": {},
   "source": [
    "## Тема новости"
   ]
  },
  {
   "cell_type": "code",
   "execution_count": 82,
   "id": "315a6b8c",
   "metadata": {},
   "outputs": [],
   "source": [
    "max_len_header = 100\n",
    "\n",
    "news = df[(df.topic != 'Моя страна') & (df.topic != '69-я параллель') & (df.topic != 'Бизнес') & (df.topic != 'Оружие')].copy()\n",
    "\n",
    "headers = news.header[~news.topic.isna()].to_list()\n",
    "topics = news.topic[~news.topic.isna()].copy()  # 19 штук"
   ]
  },
  {
   "cell_type": "code",
   "execution_count": 83,
   "id": "10713cbf",
   "metadata": {},
   "outputs": [],
   "source": [
    "tokenizer = keras.preprocessing.text.Tokenizer(lower=True, split=' ')\n",
    "tokenizer.fit_on_texts(headers)"
   ]
  },
  {
   "cell_type": "code",
   "execution_count": 84,
   "id": "e59e9fde",
   "metadata": {},
   "outputs": [],
   "source": [
    "text = tokenizer.texts_to_sequences(headers)"
   ]
  },
  {
   "cell_type": "code",
   "execution_count": 85,
   "id": "5878ff22",
   "metadata": {},
   "outputs": [],
   "source": [
    "text = keras.utils.pad_sequences(text, maxlen=max_len_header)"
   ]
  },
  {
   "cell_type": "code",
   "execution_count": 86,
   "id": "860f0d0e",
   "metadata": {},
   "outputs": [
    {
     "data": {
      "text/plain": [
       "(array([[    0,     0,     0, ..., 11177,     2,    55],\n",
       "        [    0,     0,     0, ...,  3501,  4370,  3914],\n",
       "        [    0,     0,     0, ...,    65,  1398,  3915],\n",
       "        ...,\n",
       "        [    0,     0,     0, ..., 10445,   896,  1320],\n",
       "        [    0,     0,     0, ...,     2,    38,  1948],\n",
       "        [    0,     0,     0, ...,   139,     8,   506]]),\n",
       " (28727, 100))"
      ]
     },
     "execution_count": 86,
     "metadata": {},
     "output_type": "execute_result"
    }
   ],
   "source": [
    "text, text.shape"
   ]
  },
  {
   "cell_type": "code",
   "execution_count": 87,
   "id": "b1b2fbee",
   "metadata": {},
   "outputs": [
    {
     "name": "stdout",
     "output_type": "stream",
     "text": [
      "0 Бывший СССР\n",
      "1 Забота о себе\n",
      "2 Из жизни\n",
      "3 Интернет и СМИ\n",
      "4 Культура\n",
      "5 Мир\n",
      "6 Наука и техника\n",
      "7 Путешествия\n",
      "8 Россия\n",
      "9 Силовые структуры\n",
      "10 Спорт\n",
      "11 Среда обитания\n",
      "12 Ценности\n",
      "13 Экономика\n"
     ]
    }
   ],
   "source": [
    "tipic_names = []\n",
    "\n",
    "for i, name_topic in enumerate(np.unique(topics.to_list())):\n",
    "    print(i, name_topic)\n",
    "    tipic_names.append(name_topic)\n",
    "    topics[topics == name_topic] = i"
   ]
  },
  {
   "cell_type": "code",
   "execution_count": 48,
   "id": "41f75799",
   "metadata": {},
   "outputs": [
    {
     "data": {
      "text/plain": [
       "(0        5\n",
       " 1        5\n",
       " 2        8\n",
       " 3        5\n",
       " 4        8\n",
       "         ..\n",
       " 29077    5\n",
       " 29078    8\n",
       " 29079    3\n",
       " 29080    5\n",
       " 29081    5\n",
       " Name: topic, Length: 28727, dtype: object,\n",
       " (14,))"
      ]
     },
     "execution_count": 48,
     "metadata": {},
     "output_type": "execute_result"
    }
   ],
   "source": [
    "topics, np.unique(topics).shape"
   ]
  },
  {
   "cell_type": "code",
   "execution_count": 49,
   "id": "8f6e99e8",
   "metadata": {},
   "outputs": [],
   "source": [
    "num_topic = np.unique(topics).shape[0]\n",
    "topics = keras.utils.to_categorical(topics, num_topic)"
   ]
  },
  {
   "cell_type": "code",
   "execution_count": null,
   "id": "749cf1ed",
   "metadata": {},
   "outputs": [],
   "source": []
  },
  {
   "cell_type": "code",
   "execution_count": 68,
   "id": "79eca65d",
   "metadata": {},
   "outputs": [],
   "source": [
    "model = keras.Sequential([\n",
    "    keras.layers.Embedding(text.max(), 32, input_length=max_len_header),\n",
    "    keras.layers.LSTM(64),\n",
    "    keras.layers.Dense(num_topic, activation='softmax')\n",
    "])"
   ]
  },
  {
   "cell_type": "code",
   "execution_count": 69,
   "id": "1d30a8eb",
   "metadata": {},
   "outputs": [
    {
     "name": "stdout",
     "output_type": "stream",
     "text": [
      "Model: \"sequential_7\"\n",
      "_________________________________________________________________\n",
      " Layer (type)                Output Shape              Param #   \n",
      "=================================================================\n",
      " embedding_7 (Embedding)     (None, 100, 32)           1130016   \n",
      "                                                                 \n",
      " lstm_9 (LSTM)               (None, 64)                24832     \n",
      "                                                                 \n",
      " dense_12 (Dense)            (None, 14)                910       \n",
      "                                                                 \n",
      "=================================================================\n",
      "Total params: 1,155,758\n",
      "Trainable params: 1,155,758\n",
      "Non-trainable params: 0\n",
      "_________________________________________________________________\n"
     ]
    }
   ],
   "source": [
    "model.summary()"
   ]
  },
  {
   "cell_type": "code",
   "execution_count": 70,
   "id": "111bd46d",
   "metadata": {},
   "outputs": [],
   "source": [
    "model.compile(optimizer=keras.optimizers.Adam(learning_rate=0.001),\n",
    "              loss=keras.losses.CategoricalCrossentropy(from_logits=True),\n",
    "              metrics=['accuracy'])"
   ]
  },
  {
   "cell_type": "code",
   "execution_count": 71,
   "id": "463be2b8",
   "metadata": {},
   "outputs": [
    {
     "name": "stdout",
     "output_type": "stream",
     "text": [
      "Epoch 1/10\n",
      "629/629 [==============================] - 10s 14ms/step - loss: 1.8893 - accuracy: 0.3964 - val_loss: 1.4507 - val_accuracy: 0.5447\n",
      "Epoch 2/10\n",
      "629/629 [==============================] - 8s 13ms/step - loss: 0.9428 - accuracy: 0.7119 - val_loss: 1.1447 - val_accuracy: 0.6595\n",
      "Epoch 3/10\n",
      "629/629 [==============================] - 8s 13ms/step - loss: 0.4122 - accuracy: 0.8843 - val_loss: 1.1427 - val_accuracy: 0.6807\n",
      "Epoch 4/10\n",
      "629/629 [==============================] - 9s 14ms/step - loss: 0.1682 - accuracy: 0.9561 - val_loss: 1.2274 - val_accuracy: 0.6823\n",
      "Epoch 5/10\n",
      "629/629 [==============================] - 8s 13ms/step - loss: 0.0777 - accuracy: 0.9796 - val_loss: 1.4149 - val_accuracy: 0.6754\n",
      "Epoch 6/10\n",
      "629/629 [==============================] - 9s 14ms/step - loss: 0.0434 - accuracy: 0.9902 - val_loss: 1.5243 - val_accuracy: 0.6641\n",
      "Epoch 7/10\n",
      "629/629 [==============================] - 9s 15ms/step - loss: 0.0280 - accuracy: 0.9931 - val_loss: 1.6177 - val_accuracy: 0.6805\n",
      "Epoch 8/10\n",
      "629/629 [==============================] - 9s 14ms/step - loss: 0.0235 - accuracy: 0.9940 - val_loss: 1.6834 - val_accuracy: 0.6664\n",
      "Epoch 9/10\n",
      "629/629 [==============================] - 9s 14ms/step - loss: 0.0179 - accuracy: 0.9951 - val_loss: 1.7134 - val_accuracy: 0.6681\n",
      "Epoch 10/10\n",
      "629/629 [==============================] - 9s 14ms/step - loss: 0.0176 - accuracy: 0.9948 - val_loss: 1.7956 - val_accuracy: 0.6751\n"
     ]
    }
   ],
   "source": [
    "history = model.fit(text, topics, batch_size=32, epochs=10, validation_split=.3)"
   ]
  },
  {
   "cell_type": "code",
   "execution_count": null,
   "id": "8347cc9c",
   "metadata": {},
   "outputs": [],
   "source": []
  },
  {
   "cell_type": "code",
   "execution_count": 72,
   "id": "c93d3c1c",
   "metadata": {},
   "outputs": [
    {
     "data": {
      "text/plain": [
       "[<matplotlib.lines.Line2D at 0x266834ab520>]"
      ]
     },
     "execution_count": 72,
     "metadata": {},
     "output_type": "execute_result"
    },
    {
     "data": {
      "image/png": "[encoded data removed]",
      "text/plain": [
       "<Figure size 640x480 with 1 Axes>"
      ]
     },
     "metadata": {},
     "output_type": "display_data"
    }
   ],
   "source": [
    "plt.plot(history.history['loss'])\n",
    "plt.plot(history.history['val_loss'])"
   ]
  },
  {
   "cell_type": "code",
   "execution_count": 73,
   "id": "afcc2ca1",
   "metadata": {},
   "outputs": [
    {
     "data": {
      "text/plain": [
       "[<matplotlib.lines.Line2D at 0x266834e7130>]"
      ]
     },
     "execution_count": 73,
     "metadata": {},
     "output_type": "execute_result"
    },
    {
     "data": {
      "image/png": "[encoded data removed]",
      "text/plain": [
       "<Figure size 640x480 with 1 Axes>"
      ]
     },
     "metadata": {},
     "output_type": "display_data"
    }
   ],
   "source": [
    "plt.plot(history.history['accuracy'])\n",
    "plt.plot(history.history['val_accuracy'])"
   ]
  },
  {
   "cell_type": "code",
   "execution_count": 92,
   "id": "b7fc1607",
   "metadata": {},
   "outputs": [
    {
     "data": {
      "text/html": [
       "<div>\n",
       "<style scoped>\n",
       "    .dataframe tbody tr th:only-of-type {\n",
       "        vertical-align: middle;\n",
       "    }\n",
       "\n",
       "    .dataframe tbody tr th {\n",
       "        vertical-align: top;\n",
       "    }\n",
       "\n",
       "    .dataframe thead th {\n",
       "        text-align: right;\n",
       "    }\n",
       "</style>\n",
       "<table border=\"1\" class=\"dataframe\">\n",
       "  <thead>\n",
       "    <tr style=\"text-align: right;\">\n",
       "      <th></th>\n",
       "      <th>header</th>\n",
       "      <th>topic</th>\n",
       "    </tr>\n",
       "  </thead>\n",
       "  <tbody>\n",
       "    <tr>\n",
       "      <th>0</th>\n",
       "      <td>Пентагон отказался комментировать сообщения о ...</td>\n",
       "      <td>Мир</td>\n",
       "    </tr>\n",
       "    <tr>\n",
       "      <th>1</th>\n",
       "      <td>Байден во время выступления ошибся в дате штур...</td>\n",
       "      <td>Мир</td>\n",
       "    </tr>\n",
       "    <tr>\n",
       "      <th>2</th>\n",
       "      <td>В Центральную Россию придут морозы до 35 градусов</td>\n",
       "      <td>Россия</td>\n",
       "    </tr>\n",
       "    <tr>\n",
       "      <th>3</th>\n",
       "      <td>Пентагон оценил ситуацию с военной помощью Укр...</td>\n",
       "      <td>Мир</td>\n",
       "    </tr>\n",
       "    <tr>\n",
       "      <th>4</th>\n",
       "      <td>Российский военнослужащий заявил о нарушении У...</td>\n",
       "      <td>Россия</td>\n",
       "    </tr>\n",
       "    <tr>\n",
       "      <th>5</th>\n",
       "      <td>Путин приехал на рождественское богослужение в...</td>\n",
       "      <td>Россия</td>\n",
       "    </tr>\n",
       "    <tr>\n",
       "      <th>6</th>\n",
       "      <td>Украинские войска за сутки 20 раз обстреляли ДНР</td>\n",
       "      <td>Россия</td>\n",
       "    </tr>\n",
       "    <tr>\n",
       "      <th>7</th>\n",
       "      <td>Пентагон сообщил о планах передать Украине ави...</td>\n",
       "      <td>Мир</td>\n",
       "    </tr>\n",
       "    <tr>\n",
       "      <th>8</th>\n",
       "      <td>Кандидат на пост спикера палаты представителей...</td>\n",
       "      <td>Мир</td>\n",
       "    </tr>\n",
       "    <tr>\n",
       "      <th>9</th>\n",
       "      <td>Россиянам напомнили о росте пенсий с января</td>\n",
       "      <td>Экономика</td>\n",
       "    </tr>\n",
       "    <tr>\n",
       "      <th>10</th>\n",
       "      <td>В Белоруссии назвали цели совместной с Россией...</td>\n",
       "      <td>Бывший СССР</td>\n",
       "    </tr>\n",
       "    <tr>\n",
       "      <th>11</th>\n",
       "      <td>Госдеп высказался о визите мировых лидеров в Киев</td>\n",
       "      <td>Мир</td>\n",
       "    </tr>\n",
       "    <tr>\n",
       "      <th>12</th>\n",
       "      <td>Лор рассказала о потере голоса из-за гриппа</td>\n",
       "      <td>Россия</td>\n",
       "    </tr>\n",
       "    <tr>\n",
       "      <th>13</th>\n",
       "      <td>В McDonald's предупредили о сокращениях персонала</td>\n",
       "      <td>Экономика</td>\n",
       "    </tr>\n",
       "    <tr>\n",
       "      <th>14</th>\n",
       "      <td>Пентагон пообещал побуждать партнеров оказыват...</td>\n",
       "      <td>Мир</td>\n",
       "    </tr>\n",
       "    <tr>\n",
       "      <th>15</th>\n",
       "      <td>В США назвали способную сыграть особую роль в ...</td>\n",
       "      <td>Мир</td>\n",
       "    </tr>\n",
       "    <tr>\n",
       "      <th>16</th>\n",
       "      <td>Американским чиновникам задумали запретить исп...</td>\n",
       "      <td>Мир</td>\n",
       "    </tr>\n",
       "    <tr>\n",
       "      <th>17</th>\n",
       "      <td>Патриарх Кирилл назвал условие мира на Украине</td>\n",
       "      <td>Россия</td>\n",
       "    </tr>\n",
       "    <tr>\n",
       "      <th>18</th>\n",
       "      <td>Пентагон рассказал о помощи украинским военным...</td>\n",
       "      <td>Мир</td>\n",
       "    </tr>\n",
       "    <tr>\n",
       "      <th>19</th>\n",
       "      <td>Патриарх Кирилл назвал последствия раскола Укр...</td>\n",
       "      <td>Россия</td>\n",
       "    </tr>\n",
       "    <tr>\n",
       "      <th>20</th>\n",
       "      <td>Российские военные приняли участие в рождестве...</td>\n",
       "      <td>Россия</td>\n",
       "    </tr>\n",
       "    <tr>\n",
       "      <th>21</th>\n",
       "      <td>В ДНР сообщили об обстреле Горловки со стороны...</td>\n",
       "      <td>Россия</td>\n",
       "    </tr>\n",
       "    <tr>\n",
       "      <th>22</th>\n",
       "      <td>Американцы раскритиковали «рождественский пода...</td>\n",
       "      <td>Мир</td>\n",
       "    </tr>\n",
       "    <tr>\n",
       "      <th>23</th>\n",
       "      <td>В США шестилетний мальчик выстрелил в учительн...</td>\n",
       "      <td>Мир</td>\n",
       "    </tr>\n",
       "    <tr>\n",
       "      <th>24</th>\n",
       "      <td>Стало известно об утечке данных 235 миллионов ...</td>\n",
       "      <td>Интернет и СМИ</td>\n",
       "    </tr>\n",
       "    <tr>\n",
       "      <th>25</th>\n",
       "      <td>Аналитики объяснили значение новой военной пом...</td>\n",
       "      <td>Мир</td>\n",
       "    </tr>\n",
       "    <tr>\n",
       "      <th>26</th>\n",
       "      <td>Жителям Европы посоветовали готовиться к плохи...</td>\n",
       "      <td>Мир</td>\n",
       "    </tr>\n",
       "    <tr>\n",
       "      <th>27</th>\n",
       "      <td>Стало известно о сокращении годовой инфляции в...</td>\n",
       "      <td>Экономика</td>\n",
       "    </tr>\n",
       "    <tr>\n",
       "      <th>28</th>\n",
       "      <td>Американские ВМС сократили активность своих ко...</td>\n",
       "      <td>Мир</td>\n",
       "    </tr>\n",
       "    <tr>\n",
       "      <th>29</th>\n",
       "      <td>США выделят странам восточного блока НАТО 682 ...</td>\n",
       "      <td>Мир</td>\n",
       "    </tr>\n",
       "    <tr>\n",
       "      <th>30</th>\n",
       "      <td>Назван новый потенциальный союзник России</td>\n",
       "      <td>Россия</td>\n",
       "    </tr>\n",
       "    <tr>\n",
       "      <th>31</th>\n",
       "      <td>США отклонили предложения по приобретению нефт...</td>\n",
       "      <td>Мир</td>\n",
       "    </tr>\n",
       "    <tr>\n",
       "      <th>32</th>\n",
       "      <td>Стало известно о сокращении военных расходов США</td>\n",
       "      <td>Мир</td>\n",
       "    </tr>\n",
       "    <tr>\n",
       "      <th>33</th>\n",
       "      <td>Патриарх Кирилл призвал молиться за прихожан У...</td>\n",
       "      <td>Россия</td>\n",
       "    </tr>\n",
       "    <tr>\n",
       "      <th>34</th>\n",
       "      <td>Стало известно о нарушении Макроном военного т...</td>\n",
       "      <td>Мир</td>\n",
       "    </tr>\n",
       "    <tr>\n",
       "      <th>35</th>\n",
       "      <td>В Севастополе сообщили о сбитом беспилотнике</td>\n",
       "      <td>Россия</td>\n",
       "    </tr>\n",
       "    <tr>\n",
       "      <th>36</th>\n",
       "      <td>Дело убийцы Абэ передано в прокуратуру</td>\n",
       "      <td>Мир</td>\n",
       "    </tr>\n",
       "    <tr>\n",
       "      <th>37</th>\n",
       "      <td>В России захотели запретить продажу пива без л...</td>\n",
       "      <td>Россия</td>\n",
       "    </tr>\n",
       "    <tr>\n",
       "      <th>38</th>\n",
       "      <td>Европейцам объяснили невозможность отказа от м...</td>\n",
       "      <td>Экономика</td>\n",
       "    </tr>\n",
       "    <tr>\n",
       "      <th>39</th>\n",
       "      <td>Описана роль турецкого хаба в снабжении Европы...</td>\n",
       "      <td>Экономика</td>\n",
       "    </tr>\n",
       "  </tbody>\n",
       "</table>\n",
       "</div>"
      ],
      "text/plain": [
       "                                               header           topic\n",
       "0   Пентагон отказался комментировать сообщения о ...             Мир\n",
       "1   Байден во время выступления ошибся в дате штур...             Мир\n",
       "2   В Центральную Россию придут морозы до 35 градусов          Россия\n",
       "3   Пентагон оценил ситуацию с военной помощью Укр...             Мир\n",
       "4   Российский военнослужащий заявил о нарушении У...          Россия\n",
       "5   Путин приехал на рождественское богослужение в...          Россия\n",
       "6    Украинские войска за сутки 20 раз обстреляли ДНР          Россия\n",
       "7   Пентагон сообщил о планах передать Украине ави...             Мир\n",
       "8   Кандидат на пост спикера палаты представителей...             Мир\n",
       "9         Россиянам напомнили о росте пенсий с января       Экономика\n",
       "10  В Белоруссии назвали цели совместной с Россией...     Бывший СССР\n",
       "11  Госдеп высказался о визите мировых лидеров в Киев             Мир\n",
       "12        Лор рассказала о потере голоса из-за гриппа          Россия\n",
       "13  В McDonald's предупредили о сокращениях персонала       Экономика\n",
       "14  Пентагон пообещал побуждать партнеров оказыват...             Мир\n",
       "15  В США назвали способную сыграть особую роль в ...             Мир\n",
       "16  Американским чиновникам задумали запретить исп...             Мир\n",
       "17     Патриарх Кирилл назвал условие мира на Украине          Россия\n",
       "18  Пентагон рассказал о помощи украинским военным...             Мир\n",
       "19  Патриарх Кирилл назвал последствия раскола Укр...          Россия\n",
       "20  Российские военные приняли участие в рождестве...          Россия\n",
       "21  В ДНР сообщили об обстреле Горловки со стороны...          Россия\n",
       "22  Американцы раскритиковали «рождественский пода...             Мир\n",
       "23  В США шестилетний мальчик выстрелил в учительн...             Мир\n",
       "24  Стало известно об утечке данных 235 миллионов ...  Интернет и СМИ\n",
       "25  Аналитики объяснили значение новой военной пом...             Мир\n",
       "26  Жителям Европы посоветовали готовиться к плохи...             Мир\n",
       "27  Стало известно о сокращении годовой инфляции в...       Экономика\n",
       "28  Американские ВМС сократили активность своих ко...             Мир\n",
       "29  США выделят странам восточного блока НАТО 682 ...             Мир\n",
       "30          Назван новый потенциальный союзник России          Россия\n",
       "31  США отклонили предложения по приобретению нефт...             Мир\n",
       "32   Стало известно о сокращении военных расходов США             Мир\n",
       "33  Патриарх Кирилл призвал молиться за прихожан У...          Россия\n",
       "34  Стало известно о нарушении Макроном военного т...             Мир\n",
       "35       В Севастополе сообщили о сбитом беспилотнике          Россия\n",
       "36             Дело убийцы Абэ передано в прокуратуру             Мир\n",
       "37  В России захотели запретить продажу пива без л...          Россия\n",
       "38  Европейцам объяснили невозможность отказа от м...       Экономика\n",
       "39  Описана роль турецкого хаба в снабжении Европы...       Экономика"
      ]
     },
     "execution_count": 92,
     "metadata": {},
     "output_type": "execute_result"
    }
   ],
   "source": [
    "news[['header', 'topic']].head(40)"
   ]
  },
  {
   "cell_type": "code",
   "execution_count": 118,
   "id": "fccca39f",
   "metadata": {},
   "outputs": [],
   "source": [
    "t = \"Ван Гог дропнул новую картину\".lower()\n",
    "data = tokenizer.texts_to_sequences([t])\n",
    "data_pad = keras.utils.pad_sequences(data, maxlen=max_len_header)"
   ]
  },
  {
   "cell_type": "code",
   "execution_count": 119,
   "id": "48944264",
   "metadata": {},
   "outputs": [
    {
     "data": {
      "text/plain": [
       "'Культура'"
      ]
     },
     "execution_count": 119,
     "metadata": {},
     "output_type": "execute_result"
    }
   ],
   "source": [
    "tipic_names[np.argmax(model.predict(data_pad, verbose=0))]"
   ]
  },
  {
   "cell_type": "code",
   "execution_count": null,
   "id": "f21e6298",
   "metadata": {},
   "outputs": [],
   "source": []
  }
 ],
 "metadata": {
  "kernelspec": {
   "display_name": "Python 3 (ipykernel)",
   "language": "python",
   "name": "python3"
  },
  "language_info": {
   "codemirror_mode": {
    "name": "ipython",
    "version": 3
   },
   "file_extension": ".py",
   "mimetype": "text/x-python",
   "name": "python",
   "nbconvert_exporter": "python",
   "pygments_lexer": "ipython3",
   "version": "3.9.15"
  }
 },
 "nbformat": 4,
 "nbformat_minor": 5
}
